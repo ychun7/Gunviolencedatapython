{
 "cells": [
  {
   "cell_type": "markdown",
   "id": "24cc0bff",
   "metadata": {},
   "source": [
    "# Gun Violence Data - Regression Analysis\n",
    "### Regression Analysis for Gun Violence Data (2013-2018)\n",
    "\n",
    "#### This script contains following:\n",
    "1. Import data and libraries\n",
    "2. Data prepping for regression analysis\n",
    "3. Performing regression analysis\n",
    "4. Final result analysis"
   ]
  },
  {
   "cell_type": "code",
   "execution_count": 1,
   "id": "5cabcd69",
   "metadata": {},
   "outputs": [],
   "source": [
    "#import libraries\n",
    "import pandas as pd\n",
    "import numpy as np\n",
    "import seaborn as sns\n",
    "import matplotlib\n",
    "import matplotlib.pyplot as plt\n",
    "import os\n",
    "import sklearn\n",
    "from sklearn.model_selection import train_test_split \n",
    "from sklearn.linear_model import LinearRegression\n",
    "from sklearn.metrics import mean_squared_error, r2_score"
   ]
  },
  {
   "cell_type": "code",
   "execution_count": 2,
   "id": "64c400a1",
   "metadata": {},
   "outputs": [],
   "source": [
    "#define path\n",
    "path=r'/Users/yeji/Documents/Career Foundry/Achievement 6/Gun Violence Record Data Analysis'"
   ]
  },
  {
   "cell_type": "code",
   "execution_count": 3,
   "id": "8c74bf71",
   "metadata": {},
   "outputs": [],
   "source": [
    "# Import data\n",
    "df = pd.read_csv(os.path.join(path,'Data', 'Prepared Data', 'data_with_regions.csv'), index_col = 0)"
   ]
  },
  {
   "cell_type": "code",
   "execution_count": 4,
   "id": "77689d3e",
   "metadata": {},
   "outputs": [
    {
     "data": {
      "text/html": [
       "<div>\n",
       "<style scoped>\n",
       "    .dataframe tbody tr th:only-of-type {\n",
       "        vertical-align: middle;\n",
       "    }\n",
       "\n",
       "    .dataframe tbody tr th {\n",
       "        vertical-align: top;\n",
       "    }\n",
       "\n",
       "    .dataframe thead th {\n",
       "        text-align: right;\n",
       "    }\n",
       "</style>\n",
       "<table border=\"1\" class=\"dataframe\">\n",
       "  <thead>\n",
       "    <tr style=\"text-align: right;\">\n",
       "      <th></th>\n",
       "      <th>incident_id</th>\n",
       "      <th>date</th>\n",
       "      <th>year</th>\n",
       "      <th>month</th>\n",
       "      <th>day</th>\n",
       "      <th>state</th>\n",
       "      <th>city_or_county</th>\n",
       "      <th>n_killed</th>\n",
       "      <th>n_injured</th>\n",
       "      <th>Regions</th>\n",
       "    </tr>\n",
       "  </thead>\n",
       "  <tbody>\n",
       "    <tr>\n",
       "      <th>0</th>\n",
       "      <td>461105</td>\n",
       "      <td>2013-01-01</td>\n",
       "      <td>2013</td>\n",
       "      <td>1</td>\n",
       "      <td>1</td>\n",
       "      <td>Pennsylvania</td>\n",
       "      <td>Mckeesport</td>\n",
       "      <td>0</td>\n",
       "      <td>4</td>\n",
       "      <td>Northeast</td>\n",
       "    </tr>\n",
       "    <tr>\n",
       "      <th>1</th>\n",
       "      <td>460726</td>\n",
       "      <td>2013-01-01</td>\n",
       "      <td>2013</td>\n",
       "      <td>1</td>\n",
       "      <td>1</td>\n",
       "      <td>California</td>\n",
       "      <td>Hawthorne</td>\n",
       "      <td>1</td>\n",
       "      <td>3</td>\n",
       "      <td>West</td>\n",
       "    </tr>\n",
       "    <tr>\n",
       "      <th>2</th>\n",
       "      <td>478855</td>\n",
       "      <td>2013-01-01</td>\n",
       "      <td>2013</td>\n",
       "      <td>1</td>\n",
       "      <td>1</td>\n",
       "      <td>Ohio</td>\n",
       "      <td>Lorain</td>\n",
       "      <td>1</td>\n",
       "      <td>3</td>\n",
       "      <td>Midwest</td>\n",
       "    </tr>\n",
       "    <tr>\n",
       "      <th>3</th>\n",
       "      <td>478925</td>\n",
       "      <td>2013-01-05</td>\n",
       "      <td>2013</td>\n",
       "      <td>1</td>\n",
       "      <td>5</td>\n",
       "      <td>Colorado</td>\n",
       "      <td>Aurora</td>\n",
       "      <td>4</td>\n",
       "      <td>0</td>\n",
       "      <td>West</td>\n",
       "    </tr>\n",
       "    <tr>\n",
       "      <th>4</th>\n",
       "      <td>478959</td>\n",
       "      <td>2013-01-07</td>\n",
       "      <td>2013</td>\n",
       "      <td>1</td>\n",
       "      <td>7</td>\n",
       "      <td>North Carolina</td>\n",
       "      <td>Greensboro</td>\n",
       "      <td>2</td>\n",
       "      <td>2</td>\n",
       "      <td>South</td>\n",
       "    </tr>\n",
       "  </tbody>\n",
       "</table>\n",
       "</div>"
      ],
      "text/plain": [
       "   incident_id        date  year  month  day           state city_or_county  \\\n",
       "0       461105  2013-01-01  2013      1    1    Pennsylvania     Mckeesport   \n",
       "1       460726  2013-01-01  2013      1    1      California      Hawthorne   \n",
       "2       478855  2013-01-01  2013      1    1            Ohio         Lorain   \n",
       "3       478925  2013-01-05  2013      1    5        Colorado         Aurora   \n",
       "4       478959  2013-01-07  2013      1    7  North Carolina     Greensboro   \n",
       "\n",
       "   n_killed  n_injured    Regions  \n",
       "0         0          4  Northeast  \n",
       "1         1          3       West  \n",
       "2         1          3    Midwest  \n",
       "3         4          0       West  \n",
       "4         2          2      South  "
      ]
     },
     "execution_count": 4,
     "metadata": {},
     "output_type": "execute_result"
    }
   ],
   "source": [
    "#check head\n",
    "df.head()"
   ]
  },
  {
   "cell_type": "code",
   "execution_count": 5,
   "id": "a84c4242",
   "metadata": {},
   "outputs": [
    {
     "data": {
      "text/plain": [
       "(239677, 10)"
      ]
     },
     "execution_count": 5,
     "metadata": {},
     "output_type": "execute_result"
    }
   ],
   "source": [
    "#check shape\n",
    "df.shape"
   ]
  },
  {
   "cell_type": "code",
   "execution_count": 6,
   "id": "e8914356",
   "metadata": {},
   "outputs": [
    {
     "data": {
      "text/plain": [
       "<AxesSubplot:xlabel='n_injured'>"
      ]
     },
     "execution_count": 6,
     "metadata": {},
     "output_type": "execute_result"
    },
    {
     "data": {
      "image/png": "[encoded data removed]",
      "text/plain": [
       "<Figure size 640x480 with 1 Axes>"
      ]
     },
     "metadata": {},
     "output_type": "display_data"
    }
   ],
   "source": [
    "#check for extreme via scatterplot\n",
    "df.plot(x = 'n_injured', y='n_killed',style='o')"
   ]
  },
  {
   "cell_type": "markdown",
   "id": "ee4c8517",
   "metadata": {},
   "source": [
    "The dot in the scatterplot around 50 is an extreme values and needs to be removed for the purpose of regression analysis"
   ]
  },
  {
   "cell_type": "code",
   "execution_count": 8,
   "id": "0c3d1a10",
   "metadata": {},
   "outputs": [],
   "source": [
    "#remove extreme\n",
    "df_new = df[df['n_injured']<50]"
   ]
  },
  {
   "cell_type": "code",
   "execution_count": 9,
   "id": "ce4127a9",
   "metadata": {},
   "outputs": [
    {
     "data": {
      "text/plain": [
       "<AxesSubplot:xlabel='n_injured'>"
      ]
     },
     "execution_count": 9,
     "metadata": {},
     "output_type": "execute_result"
    },
    {
     "data": {
      "image/png": "[encoded data removed]",
      "text/plain": [
       "<Figure size 640x480 with 1 Axes>"
      ]
     },
     "metadata": {},
     "output_type": "display_data"
    }
   ],
   "source": [
    "#check new scatterplot\n",
    "df_new.plot(x = 'n_injured', y='n_killed',style='o')"
   ]
  },
  {
   "cell_type": "markdown",
   "id": "144e969a",
   "metadata": {},
   "source": [
    "## Hypothesis\n",
    "If numbers of individuals injured increases,than number of individuals killed will increase"
   ]
  },
  {
   "cell_type": "markdown",
   "id": "8276c434",
   "metadata": {},
   "source": [
    "## Regression analysis prep "
   ]
  },
  {
   "cell_type": "code",
   "execution_count": 10,
   "id": "cf5085b6",
   "metadata": {},
   "outputs": [],
   "source": [
    "# Reshaping variables into Numpy arrays\n",
    "\n",
    "X = df_new['n_injured'].values.reshape(-1,1)\n",
    "y = df_new['n_killed'].values.reshape(-1,1)"
   ]
  },
  {
   "cell_type": "code",
   "execution_count": 12,
   "id": "da316145",
   "metadata": {},
   "outputs": [
    {
     "data": {
      "text/plain": [
       "array([[4],\n",
       "       [3],\n",
       "       [3],\n",
       "       ...,\n",
       "       [1],\n",
       "       [0],\n",
       "       [0]])"
      ]
     },
     "execution_count": 12,
     "metadata": {},
     "output_type": "execute_result"
    }
   ],
   "source": [
    "X"
   ]
  },
  {
   "cell_type": "code",
   "execution_count": 13,
   "id": "26e0e120",
   "metadata": {},
   "outputs": [
    {
     "data": {
      "text/plain": [
       "array([[0],\n",
       "       [1],\n",
       "       [1],\n",
       "       ...,\n",
       "       [0],\n",
       "       [1],\n",
       "       [2]])"
      ]
     },
     "execution_count": 13,
     "metadata": {},
     "output_type": "execute_result"
    }
   ],
   "source": [
    "y"
   ]
  },
  {
   "cell_type": "code",
   "execution_count": 14,
   "id": "5953af1e",
   "metadata": {},
   "outputs": [],
   "source": [
    "# Split data into a training set and a test set.\n",
    "\n",
    "X_train, X_test, y_train, y_test = train_test_split(X, y, test_size=0.3, random_state=0)"
   ]
  },
  {
   "cell_type": "markdown",
   "id": "012a5b12",
   "metadata": {},
   "source": [
    "## Regression Analysis"
   ]
  },
  {
   "cell_type": "code",
   "execution_count": 15,
   "id": "67b27f42",
   "metadata": {},
   "outputs": [],
   "source": [
    "# Create a regression object\n",
    "regression = LinearRegression() "
   ]
  },
  {
   "cell_type": "code",
   "execution_count": 16,
   "id": "37492fc6",
   "metadata": {},
   "outputs": [
    {
     "data": {
      "text/plain": [
       "LinearRegression()"
      ]
     },
     "execution_count": 16,
     "metadata": {},
     "output_type": "execute_result"
    }
   ],
   "source": [
    "# Fit the regression object onto the training set.\n",
    "regression.fit(X_train, y_train)"
   ]
  },
  {
   "cell_type": "code",
   "execution_count": 17,
   "id": "08bd73b7",
   "metadata": {},
   "outputs": [],
   "source": [
    "# Predict the values of y using X\n",
    "y_predicted = regression.predict(X_test)"
   ]
  },
  {
   "cell_type": "code",
   "execution_count": 18,
   "id": "08c227c9",
   "metadata": {},
   "outputs": [
    {
     "data": {
      "image/png": "[encoded data removed]",
      "text/plain": [
       "<Figure size 640x480 with 1 Axes>"
      ]
     },
     "metadata": {},
     "output_type": "display_data"
    }
   ],
   "source": [
    "# Create a plot that shows the regression line from the model on the test set.\n",
    "plot_test = plt\n",
    "plot_test.scatter(X_test, y_test, color='gray', s = 15)\n",
    "plot_test.plot(X_test, y_predicted, color='orange', linewidth =3)\n",
    "plot_test.title('Individuals Injured vs Individuals Killed (Test set)')\n",
    "plot_test.xlabel('Injured')\n",
    "plot_test.ylabel('Killed')\n",
    "plot_test.show()"
   ]
  },
  {
   "cell_type": "code",
   "execution_count": 19,
   "id": "b59606c5",
   "metadata": {},
   "outputs": [],
   "source": [
    "# Create objects that contain the model summary statistics\n",
    "rmse = mean_squared_error(y_test, y_predicted)\n",
    "r2 = r2_score(y_test, y_predicted)"
   ]
  },
  {
   "cell_type": "code",
   "execution_count": 20,
   "id": "1b78262d",
   "metadata": {},
   "outputs": [
    {
     "name": "stdout",
     "output_type": "stream",
     "text": [
      "Slope: [[-0.11845313]]\n",
      "Mean squared error:  0.2700950638621775\n",
      "R2 score:  0.018205007513918292\n"
     ]
    }
   ],
   "source": [
    "#check model summary statistics\n",
    "print('Slope:' ,regression.coef_)\n",
    "print('Mean squared error: ', rmse)\n",
    "print('R2 score: ', r2)"
   ]
  },
  {
   "cell_type": "markdown",
   "id": "2c862ea6",
   "metadata": {},
   "source": [
    "#### Analysis\n",
    "The slope is a negative value, which means that there is a negative relationship between indivduals injured and killed. This contradicts the hypthosis that was made, which assumed more injured would mean more killed. \n",
    "The mean squared error is small, which shows that the line is close to the set of points but the r2 value of 0.018 indicates that the line is not the best fit of the data. "
   ]
  },
  {
   "cell_type": "code",
   "execution_count": 21,
   "id": "73978211",
   "metadata": {},
   "outputs": [
    {
     "data": {
      "text/html": [
       "<div>\n",
       "<style scoped>\n",
       "    .dataframe tbody tr th:only-of-type {\n",
       "        vertical-align: middle;\n",
       "    }\n",
       "\n",
       "    .dataframe tbody tr th {\n",
       "        vertical-align: top;\n",
       "    }\n",
       "\n",
       "    .dataframe thead th {\n",
       "        text-align: right;\n",
       "    }\n",
       "</style>\n",
       "<table border=\"1\" class=\"dataframe\">\n",
       "  <thead>\n",
       "    <tr style=\"text-align: right;\">\n",
       "      <th></th>\n",
       "      <th>Actual</th>\n",
       "      <th>Predicted</th>\n",
       "    </tr>\n",
       "  </thead>\n",
       "  <tbody>\n",
       "    <tr>\n",
       "      <th>0</th>\n",
       "      <td>0</td>\n",
       "      <td>-0.046421</td>\n",
       "    </tr>\n",
       "    <tr>\n",
       "      <th>1</th>\n",
       "      <td>0</td>\n",
       "      <td>0.308938</td>\n",
       "    </tr>\n",
       "    <tr>\n",
       "      <th>2</th>\n",
       "      <td>0</td>\n",
       "      <td>0.190485</td>\n",
       "    </tr>\n",
       "    <tr>\n",
       "      <th>3</th>\n",
       "      <td>0</td>\n",
       "      <td>0.308938</td>\n",
       "    </tr>\n",
       "    <tr>\n",
       "      <th>4</th>\n",
       "      <td>0</td>\n",
       "      <td>0.308938</td>\n",
       "    </tr>\n",
       "    <tr>\n",
       "      <th>5</th>\n",
       "      <td>0</td>\n",
       "      <td>0.308938</td>\n",
       "    </tr>\n",
       "    <tr>\n",
       "      <th>6</th>\n",
       "      <td>0</td>\n",
       "      <td>0.308938</td>\n",
       "    </tr>\n",
       "    <tr>\n",
       "      <th>7</th>\n",
       "      <td>0</td>\n",
       "      <td>0.308938</td>\n",
       "    </tr>\n",
       "    <tr>\n",
       "      <th>8</th>\n",
       "      <td>0</td>\n",
       "      <td>0.072032</td>\n",
       "    </tr>\n",
       "    <tr>\n",
       "      <th>9</th>\n",
       "      <td>0</td>\n",
       "      <td>0.308938</td>\n",
       "    </tr>\n",
       "    <tr>\n",
       "      <th>10</th>\n",
       "      <td>0</td>\n",
       "      <td>0.190485</td>\n",
       "    </tr>\n",
       "    <tr>\n",
       "      <th>11</th>\n",
       "      <td>0</td>\n",
       "      <td>0.308938</td>\n",
       "    </tr>\n",
       "    <tr>\n",
       "      <th>12</th>\n",
       "      <td>0</td>\n",
       "      <td>0.308938</td>\n",
       "    </tr>\n",
       "    <tr>\n",
       "      <th>13</th>\n",
       "      <td>0</td>\n",
       "      <td>0.308938</td>\n",
       "    </tr>\n",
       "    <tr>\n",
       "      <th>14</th>\n",
       "      <td>1</td>\n",
       "      <td>0.308938</td>\n",
       "    </tr>\n",
       "    <tr>\n",
       "      <th>15</th>\n",
       "      <td>0</td>\n",
       "      <td>0.308938</td>\n",
       "    </tr>\n",
       "    <tr>\n",
       "      <th>16</th>\n",
       "      <td>0</td>\n",
       "      <td>0.190485</td>\n",
       "    </tr>\n",
       "    <tr>\n",
       "      <th>17</th>\n",
       "      <td>0</td>\n",
       "      <td>0.308938</td>\n",
       "    </tr>\n",
       "    <tr>\n",
       "      <th>18</th>\n",
       "      <td>0</td>\n",
       "      <td>0.308938</td>\n",
       "    </tr>\n",
       "    <tr>\n",
       "      <th>19</th>\n",
       "      <td>0</td>\n",
       "      <td>0.308938</td>\n",
       "    </tr>\n",
       "    <tr>\n",
       "      <th>20</th>\n",
       "      <td>0</td>\n",
       "      <td>0.190485</td>\n",
       "    </tr>\n",
       "    <tr>\n",
       "      <th>21</th>\n",
       "      <td>1</td>\n",
       "      <td>0.308938</td>\n",
       "    </tr>\n",
       "    <tr>\n",
       "      <th>22</th>\n",
       "      <td>0</td>\n",
       "      <td>0.190485</td>\n",
       "    </tr>\n",
       "    <tr>\n",
       "      <th>23</th>\n",
       "      <td>0</td>\n",
       "      <td>0.308938</td>\n",
       "    </tr>\n",
       "    <tr>\n",
       "      <th>24</th>\n",
       "      <td>1</td>\n",
       "      <td>0.072032</td>\n",
       "    </tr>\n",
       "    <tr>\n",
       "      <th>25</th>\n",
       "      <td>1</td>\n",
       "      <td>0.308938</td>\n",
       "    </tr>\n",
       "    <tr>\n",
       "      <th>26</th>\n",
       "      <td>0</td>\n",
       "      <td>0.308938</td>\n",
       "    </tr>\n",
       "    <tr>\n",
       "      <th>27</th>\n",
       "      <td>0</td>\n",
       "      <td>0.190485</td>\n",
       "    </tr>\n",
       "    <tr>\n",
       "      <th>28</th>\n",
       "      <td>0</td>\n",
       "      <td>0.308938</td>\n",
       "    </tr>\n",
       "    <tr>\n",
       "      <th>29</th>\n",
       "      <td>0</td>\n",
       "      <td>0.308938</td>\n",
       "    </tr>\n",
       "  </tbody>\n",
       "</table>\n",
       "</div>"
      ],
      "text/plain": [
       "    Actual  Predicted\n",
       "0        0  -0.046421\n",
       "1        0   0.308938\n",
       "2        0   0.190485\n",
       "3        0   0.308938\n",
       "4        0   0.308938\n",
       "5        0   0.308938\n",
       "6        0   0.308938\n",
       "7        0   0.308938\n",
       "8        0   0.072032\n",
       "9        0   0.308938\n",
       "10       0   0.190485\n",
       "11       0   0.308938\n",
       "12       0   0.308938\n",
       "13       0   0.308938\n",
       "14       1   0.308938\n",
       "15       0   0.308938\n",
       "16       0   0.190485\n",
       "17       0   0.308938\n",
       "18       0   0.308938\n",
       "19       0   0.308938\n",
       "20       0   0.190485\n",
       "21       1   0.308938\n",
       "22       0   0.190485\n",
       "23       0   0.308938\n",
       "24       1   0.072032\n",
       "25       1   0.308938\n",
       "26       0   0.308938\n",
       "27       0   0.190485\n",
       "28       0   0.308938\n",
       "29       0   0.308938"
      ]
     },
     "execution_count": 21,
     "metadata": {},
     "output_type": "execute_result"
    }
   ],
   "source": [
    "# Check dataframe comparing the actual and predicted values of y\n",
    "\n",
    "data = pd.DataFrame({'Actual': y_test.flatten(), 'Predicted': y_predicted.flatten()})\n",
    "data.head(30)"
   ]
  },
  {
   "cell_type": "markdown",
   "id": "4eb30e6f",
   "metadata": {},
   "source": [
    "### Final Analysis\n",
    "The dataframe with actual and predicted y values show a large discrepency, which indicates that the model is not the best representative of the relationship between the x and y variables. Therefore, I need to see if there is another way to find the relationship between the injured and the killed. Also, I excluded the extreme values which might have impacted the model as well. "
   ]
  }
 ],
 "metadata": {
  "kernelspec": {
   "display_name": "Python 3 (ipykernel)",
   "language": "python",
   "name": "python3"
  },
  "language_info": {
   "codemirror_mode": {
    "name": "ipython",
    "version": 3
   },
   "file_extension": ".py",
   "mimetype": "text/x-python",
   "name": "python",
   "nbconvert_exporter": "python",
   "pygments_lexer": "ipython3",
   "version": "3.9.13"
  }
 },
 "nbformat": 4,
 "nbformat_minor": 5
}
