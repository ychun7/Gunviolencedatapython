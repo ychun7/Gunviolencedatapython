{
 "cells": [
  {
   "cell_type": "markdown",
   "id": "e370064c",
   "metadata": {},
   "source": [
    "# Gun Violence Incident (2014-2021)\n",
    "\n",
    "### This script contains data wrangling, data consistency check, and data profiling with descriptive analysis. \n",
    "\n",
    "1. Importing Libraries\n",
    "2. Importing Data\n",
    "3. Data consistency check\n",
    "4. Data cleaning\n",
    "5. Descriptive analysis \n"
   ]
  },
  {
   "cell_type": "code",
   "execution_count": 30,
   "id": "e4859558",
   "metadata": {},
   "outputs": [],
   "source": [
    "# Import Liabraries\n",
    "import pandas as pd\n",
    "import numpy as np\n",
    "import os"
   ]
  },
  {
   "cell_type": "code",
   "execution_count": 2,
   "id": "f6270322",
   "metadata": {},
   "outputs": [],
   "source": [
    "#define path\n",
    "path=r'/Users/yeji/Documents/Career Foundry/Achievement 6'"
   ]
  },
  {
   "cell_type": "code",
   "execution_count": 3,
   "id": "0a0f126e",
   "metadata": {},
   "outputs": [],
   "source": [
    "#define US_gun_violence csv.\n",
    "df= pd.read_csv(os.path.join(path,'Data','Original Data','US_gun_violence.csv'), index_col = False)"
   ]
  },
  {
   "cell_type": "code",
   "execution_count": 4,
   "id": "84e5334f",
   "metadata": {},
   "outputs": [
    {
     "data": {
      "text/html": [
       "<div>\n",
       "<style scoped>\n",
       "    .dataframe tbody tr th:only-of-type {\n",
       "        vertical-align: middle;\n",
       "    }\n",
       "\n",
       "    .dataframe tbody tr th {\n",
       "        vertical-align: top;\n",
       "    }\n",
       "\n",
       "    .dataframe thead th {\n",
       "        text-align: right;\n",
       "    }\n",
       "</style>\n",
       "<table border=\"1\" class=\"dataframe\">\n",
       "  <thead>\n",
       "    <tr style=\"text-align: right;\">\n",
       "      <th></th>\n",
       "      <th>incident_id</th>\n",
       "      <th>incident_date</th>\n",
       "      <th>state</th>\n",
       "      <th>city_or_county</th>\n",
       "      <th>address</th>\n",
       "      <th>killed</th>\n",
       "      <th>injured</th>\n",
       "    </tr>\n",
       "  </thead>\n",
       "  <tbody>\n",
       "    <tr>\n",
       "      <th>0</th>\n",
       "      <td>2201535</td>\n",
       "      <td>December 31 2021</td>\n",
       "      <td>Maryland</td>\n",
       "      <td>Capitol Heights</td>\n",
       "      <td>Cindy Ln</td>\n",
       "      <td>0</td>\n",
       "      <td>4.0</td>\n",
       "    </tr>\n",
       "    <tr>\n",
       "      <th>1</th>\n",
       "      <td>2201716</td>\n",
       "      <td>December 31 2021</td>\n",
       "      <td>Mississippi</td>\n",
       "      <td>Gulfport</td>\n",
       "      <td>1200 block of Lewis Ave</td>\n",
       "      <td>3</td>\n",
       "      <td>4.0</td>\n",
       "    </tr>\n",
       "    <tr>\n",
       "      <th>2</th>\n",
       "      <td>2201216</td>\n",
       "      <td>December 31 2021</td>\n",
       "      <td>California</td>\n",
       "      <td>Los Angeles</td>\n",
       "      <td>10211 S. Avalon Blvd</td>\n",
       "      <td>0</td>\n",
       "      <td>6.0</td>\n",
       "    </tr>\n",
       "    <tr>\n",
       "      <th>3</th>\n",
       "      <td>2200968</td>\n",
       "      <td>December 30 2021</td>\n",
       "      <td>Pennsylvania</td>\n",
       "      <td>Philadelphia</td>\n",
       "      <td>5100 block of Germantown Ave</td>\n",
       "      <td>0</td>\n",
       "      <td>6.0</td>\n",
       "    </tr>\n",
       "    <tr>\n",
       "      <th>4</th>\n",
       "      <td>2201052</td>\n",
       "      <td>December 30 2021</td>\n",
       "      <td>Missouri</td>\n",
       "      <td>Kirksville</td>\n",
       "      <td>700 block of E Dodson St</td>\n",
       "      <td>2</td>\n",
       "      <td>2.0</td>\n",
       "    </tr>\n",
       "  </tbody>\n",
       "</table>\n",
       "</div>"
      ],
      "text/plain": [
       "   incident_id     incident_date         state   city_or_county  \\\n",
       "0      2201535  December 31 2021      Maryland  Capitol Heights   \n",
       "1      2201716  December 31 2021   Mississippi         Gulfport   \n",
       "2      2201216  December 31 2021    California      Los Angeles   \n",
       "3      2200968  December 30 2021  Pennsylvania     Philadelphia   \n",
       "4      2201052  December 30 2021      Missouri       Kirksville   \n",
       "\n",
       "                        address  killed  injured  \n",
       "0                      Cindy Ln       0      4.0  \n",
       "1       1200 block of Lewis Ave       3      4.0  \n",
       "2          10211 S. Avalon Blvd       0      6.0  \n",
       "3  5100 block of Germantown Ave       0      6.0  \n",
       "4      700 block of E Dodson St       2      2.0  "
      ]
     },
     "execution_count": 4,
     "metadata": {},
     "output_type": "execute_result"
    }
   ],
   "source": [
    "#check head\n",
    "df.head()"
   ]
  },
  {
   "cell_type": "code",
   "execution_count": 5,
   "id": "c29cf4be",
   "metadata": {},
   "outputs": [
    {
     "data": {
      "text/plain": [
       "(3391, 7)"
      ]
     },
     "execution_count": 5,
     "metadata": {},
     "output_type": "execute_result"
    }
   ],
   "source": [
    "#check shape\n",
    "df.shape"
   ]
  },
  {
   "cell_type": "code",
   "execution_count": 6,
   "id": "22f42e89",
   "metadata": {},
   "outputs": [
    {
     "data": {
      "text/plain": [
       "incident_id         int64\n",
       "incident_date      object\n",
       "state              object\n",
       "city_or_county     object\n",
       "address            object\n",
       "killed              int64\n",
       "injured           float64\n",
       "dtype: object"
      ]
     },
     "execution_count": 6,
     "metadata": {},
     "output_type": "execute_result"
    }
   ],
   "source": [
    "#check data type\n",
    "df.dtypes"
   ]
  },
  {
   "cell_type": "code",
   "execution_count": 7,
   "id": "f1ed1633",
   "metadata": {},
   "outputs": [
    {
     "data": {
      "text/html": [
       "<div>\n",
       "<style scoped>\n",
       "    .dataframe tbody tr th:only-of-type {\n",
       "        vertical-align: middle;\n",
       "    }\n",
       "\n",
       "    .dataframe tbody tr th {\n",
       "        vertical-align: top;\n",
       "    }\n",
       "\n",
       "    .dataframe thead th {\n",
       "        text-align: right;\n",
       "    }\n",
       "</style>\n",
       "<table border=\"1\" class=\"dataframe\">\n",
       "  <thead>\n",
       "    <tr style=\"text-align: right;\">\n",
       "      <th></th>\n",
       "      <th>incident_id</th>\n",
       "      <th>killed</th>\n",
       "      <th>injured</th>\n",
       "    </tr>\n",
       "  </thead>\n",
       "  <tbody>\n",
       "    <tr>\n",
       "      <th>count</th>\n",
       "      <td>3.391000e+03</td>\n",
       "      <td>3391.000000</td>\n",
       "      <td>3389.000000</td>\n",
       "    </tr>\n",
       "    <tr>\n",
       "      <th>mean</th>\n",
       "      <td>1.236033e+06</td>\n",
       "      <td>1.054851</td>\n",
       "      <td>4.182650</td>\n",
       "    </tr>\n",
       "    <tr>\n",
       "      <th>std</th>\n",
       "      <td>6.459642e+05</td>\n",
       "      <td>2.046927</td>\n",
       "      <td>7.841665</td>\n",
       "    </tr>\n",
       "    <tr>\n",
       "      <th>min</th>\n",
       "      <td>9.219400e+04</td>\n",
       "      <td>0.000000</td>\n",
       "      <td>0.000000</td>\n",
       "    </tr>\n",
       "    <tr>\n",
       "      <th>25%</th>\n",
       "      <td>6.347590e+05</td>\n",
       "      <td>0.000000</td>\n",
       "      <td>3.000000</td>\n",
       "    </tr>\n",
       "    <tr>\n",
       "      <th>50%</th>\n",
       "      <td>1.314253e+06</td>\n",
       "      <td>1.000000</td>\n",
       "      <td>4.000000</td>\n",
       "    </tr>\n",
       "    <tr>\n",
       "      <th>75%</th>\n",
       "      <td>1.799726e+06</td>\n",
       "      <td>1.000000</td>\n",
       "      <td>5.000000</td>\n",
       "    </tr>\n",
       "    <tr>\n",
       "      <th>max</th>\n",
       "      <td>2.201716e+06</td>\n",
       "      <td>59.000000</td>\n",
       "      <td>441.000000</td>\n",
       "    </tr>\n",
       "  </tbody>\n",
       "</table>\n",
       "</div>"
      ],
      "text/plain": [
       "        incident_id       killed      injured\n",
       "count  3.391000e+03  3391.000000  3389.000000\n",
       "mean   1.236033e+06     1.054851     4.182650\n",
       "std    6.459642e+05     2.046927     7.841665\n",
       "min    9.219400e+04     0.000000     0.000000\n",
       "25%    6.347590e+05     0.000000     3.000000\n",
       "50%    1.314253e+06     1.000000     4.000000\n",
       "75%    1.799726e+06     1.000000     5.000000\n",
       "max    2.201716e+06    59.000000   441.000000"
      ]
     },
     "execution_count": 7,
     "metadata": {},
     "output_type": "execute_result"
    }
   ],
   "source": [
    "#descriptive analysis\n",
    "df.describe()"
   ]
  },
  {
   "cell_type": "code",
   "execution_count": 8,
   "id": "6160f0d1",
   "metadata": {},
   "outputs": [],
   "source": [
    "#change data type for incident_id from integer to string\n",
    "df['incident_id'] = df['incident_id'].astype('str')"
   ]
  },
  {
   "cell_type": "code",
   "execution_count": 9,
   "id": "43e0667f",
   "metadata": {},
   "outputs": [],
   "source": [
    "#check for mixed data type\n",
    "for col in df.columns.tolist(): weird = (df[[col]].applymap(type) != df[[col]].iloc[0].apply(type)).any(axis = 1)\n",
    "if len (df[weird]) > 0: print (col)"
   ]
  },
  {
   "cell_type": "code",
   "execution_count": 10,
   "id": "02a67e64",
   "metadata": {},
   "outputs": [
    {
     "data": {
      "text/plain": [
       "incident_id       0\n",
       "incident_date     0\n",
       "state             0\n",
       "city_or_county    0\n",
       "address           5\n",
       "killed            0\n",
       "injured           2\n",
       "dtype: int64"
      ]
     },
     "execution_count": 10,
     "metadata": {},
     "output_type": "execute_result"
    }
   ],
   "source": [
    "#check for missing values \n",
    "df.isnull().sum()"
   ]
  },
  {
   "cell_type": "code",
   "execution_count": 11,
   "id": "f6f6ad81",
   "metadata": {},
   "outputs": [],
   "source": [
    "# create dataframe with missing values\n",
    "df_nan = df[df['address'].isnull()==True]"
   ]
  },
  {
   "cell_type": "code",
   "execution_count": 12,
   "id": "cd9cbf9d",
   "metadata": {},
   "outputs": [
    {
     "data": {
      "text/html": [
       "<div>\n",
       "<style scoped>\n",
       "    .dataframe tbody tr th:only-of-type {\n",
       "        vertical-align: middle;\n",
       "    }\n",
       "\n",
       "    .dataframe tbody tr th {\n",
       "        vertical-align: top;\n",
       "    }\n",
       "\n",
       "    .dataframe thead th {\n",
       "        text-align: right;\n",
       "    }\n",
       "</style>\n",
       "<table border=\"1\" class=\"dataframe\">\n",
       "  <thead>\n",
       "    <tr style=\"text-align: right;\">\n",
       "      <th></th>\n",
       "      <th>incident_id</th>\n",
       "      <th>incident_date</th>\n",
       "      <th>state</th>\n",
       "      <th>city_or_county</th>\n",
       "      <th>address</th>\n",
       "      <th>killed</th>\n",
       "      <th>injured</th>\n",
       "    </tr>\n",
       "  </thead>\n",
       "  <tbody>\n",
       "    <tr>\n",
       "      <th>1038</th>\n",
       "      <td>1725735</td>\n",
       "      <td>July 4 2020</td>\n",
       "      <td>South Carolina</td>\n",
       "      <td>Red Oak</td>\n",
       "      <td>NaN</td>\n",
       "      <td>0</td>\n",
       "      <td>5.0</td>\n",
       "    </tr>\n",
       "    <tr>\n",
       "      <th>1808</th>\n",
       "      <td>1206476</td>\n",
       "      <td>September 9 2018</td>\n",
       "      <td>Florida</td>\n",
       "      <td>Jacksonville</td>\n",
       "      <td>NaN</td>\n",
       "      <td>0</td>\n",
       "      <td>4.0</td>\n",
       "    </tr>\n",
       "    <tr>\n",
       "      <th>2430</th>\n",
       "      <td>716001</td>\n",
       "      <td>December 1 2016</td>\n",
       "      <td>California</td>\n",
       "      <td>Clearlake Oaks</td>\n",
       "      <td>NaN</td>\n",
       "      <td>1</td>\n",
       "      <td>3.0</td>\n",
       "    </tr>\n",
       "    <tr>\n",
       "      <th>2879</th>\n",
       "      <td>411888</td>\n",
       "      <td>September 8 2015</td>\n",
       "      <td>Georgia</td>\n",
       "      <td>Berlin</td>\n",
       "      <td>NaN</td>\n",
       "      <td>0</td>\n",
       "      <td>4.0</td>\n",
       "    </tr>\n",
       "    <tr>\n",
       "      <th>3342</th>\n",
       "      <td>120621</td>\n",
       "      <td>March 30 2014</td>\n",
       "      <td>Mississippi</td>\n",
       "      <td>Starkville</td>\n",
       "      <td>NaN</td>\n",
       "      <td>0</td>\n",
       "      <td>5.0</td>\n",
       "    </tr>\n",
       "  </tbody>\n",
       "</table>\n",
       "</div>"
      ],
      "text/plain": [
       "     incident_id     incident_date           state  city_or_county address  \\\n",
       "1038     1725735       July 4 2020  South Carolina         Red Oak     NaN   \n",
       "1808     1206476  September 9 2018         Florida    Jacksonville     NaN   \n",
       "2430      716001   December 1 2016      California  Clearlake Oaks     NaN   \n",
       "2879      411888  September 8 2015         Georgia          Berlin     NaN   \n",
       "3342      120621     March 30 2014     Mississippi      Starkville     NaN   \n",
       "\n",
       "      killed  injured  \n",
       "1038       0      5.0  \n",
       "1808       0      4.0  \n",
       "2430       1      3.0  \n",
       "2879       0      4.0  \n",
       "3342       0      5.0  "
      ]
     },
     "execution_count": 12,
     "metadata": {},
     "output_type": "execute_result"
    }
   ],
   "source": [
    "df_nan"
   ]
  },
  {
   "cell_type": "code",
   "execution_count": 13,
   "id": "adc39c6c",
   "metadata": {},
   "outputs": [],
   "source": [
    "#create dataframe with missing values for injured\n",
    "df_nan_injured = df[df['injured'].isnull()==True]"
   ]
  },
  {
   "cell_type": "code",
   "execution_count": 14,
   "id": "5c09f69f",
   "metadata": {},
   "outputs": [
    {
     "data": {
      "text/html": [
       "<div>\n",
       "<style scoped>\n",
       "    .dataframe tbody tr th:only-of-type {\n",
       "        vertical-align: middle;\n",
       "    }\n",
       "\n",
       "    .dataframe tbody tr th {\n",
       "        vertical-align: top;\n",
       "    }\n",
       "\n",
       "    .dataframe thead th {\n",
       "        text-align: right;\n",
       "    }\n",
       "</style>\n",
       "<table border=\"1\" class=\"dataframe\">\n",
       "  <thead>\n",
       "    <tr style=\"text-align: right;\">\n",
       "      <th></th>\n",
       "      <th>incident_id</th>\n",
       "      <th>incident_date</th>\n",
       "      <th>state</th>\n",
       "      <th>city_or_county</th>\n",
       "      <th>address</th>\n",
       "      <th>killed</th>\n",
       "      <th>injured</th>\n",
       "    </tr>\n",
       "  </thead>\n",
       "  <tbody>\n",
       "    <tr>\n",
       "      <th>212</th>\n",
       "      <td>2115336</td>\n",
       "      <td>September 5 2021</td>\n",
       "      <td>Missouri</td>\n",
       "      <td>Wyatt</td>\n",
       "      <td>0</td>\n",
       "      <td>4</td>\n",
       "      <td>NaN</td>\n",
       "    </tr>\n",
       "    <tr>\n",
       "      <th>268</th>\n",
       "      <td>2089557</td>\n",
       "      <td>August 10 2021</td>\n",
       "      <td>Mississippi</td>\n",
       "      <td>Clarksdale</td>\n",
       "      <td>2</td>\n",
       "      <td>2</td>\n",
       "      <td>NaN</td>\n",
       "    </tr>\n",
       "  </tbody>\n",
       "</table>\n",
       "</div>"
      ],
      "text/plain": [
       "    incident_id     incident_date        state city_or_county address  killed  \\\n",
       "212     2115336  September 5 2021     Missouri          Wyatt       0       4   \n",
       "268     2089557    August 10 2021  Mississippi     Clarksdale       2       2   \n",
       "\n",
       "     injured  \n",
       "212      NaN  \n",
       "268      NaN  "
      ]
     },
     "execution_count": 14,
     "metadata": {},
     "output_type": "execute_result"
    }
   ],
   "source": [
    "df_nan_injured"
   ]
  },
  {
   "cell_type": "code",
   "execution_count": 15,
   "id": "8de63b3d",
   "metadata": {},
   "outputs": [],
   "source": [
    "#create new dataframe without missing values in injured \n",
    "df_clean=df[df['injured'].isnull()==False]"
   ]
  },
  {
   "cell_type": "code",
   "execution_count": 16,
   "id": "113bfdd9",
   "metadata": {},
   "outputs": [
    {
     "data": {
      "text/plain": [
       "(3389, 7)"
      ]
     },
     "execution_count": 16,
     "metadata": {},
     "output_type": "execute_result"
    }
   ],
   "source": [
    "df_clean.shape"
   ]
  },
  {
   "cell_type": "code",
   "execution_count": 17,
   "id": "8fd9e455",
   "metadata": {},
   "outputs": [],
   "source": [
    "#check for duplicates\n",
    "df_clean_dups = df_clean[df_clean.duplicated()]"
   ]
  },
  {
   "cell_type": "code",
   "execution_count": 18,
   "id": "21818a0a",
   "metadata": {},
   "outputs": [
    {
     "data": {
      "text/html": [
       "<div>\n",
       "<style scoped>\n",
       "    .dataframe tbody tr th:only-of-type {\n",
       "        vertical-align: middle;\n",
       "    }\n",
       "\n",
       "    .dataframe tbody tr th {\n",
       "        vertical-align: top;\n",
       "    }\n",
       "\n",
       "    .dataframe thead th {\n",
       "        text-align: right;\n",
       "    }\n",
       "</style>\n",
       "<table border=\"1\" class=\"dataframe\">\n",
       "  <thead>\n",
       "    <tr style=\"text-align: right;\">\n",
       "      <th></th>\n",
       "      <th>incident_id</th>\n",
       "      <th>incident_date</th>\n",
       "      <th>state</th>\n",
       "      <th>city_or_county</th>\n",
       "      <th>address</th>\n",
       "      <th>killed</th>\n",
       "      <th>injured</th>\n",
       "    </tr>\n",
       "  </thead>\n",
       "  <tbody>\n",
       "  </tbody>\n",
       "</table>\n",
       "</div>"
      ],
      "text/plain": [
       "Empty DataFrame\n",
       "Columns: [incident_id, incident_date, state, city_or_county, address, killed, injured]\n",
       "Index: []"
      ]
     },
     "execution_count": 18,
     "metadata": {},
     "output_type": "execute_result"
    }
   ],
   "source": [
    "df_clean_dups"
   ]
  },
  {
   "cell_type": "code",
   "execution_count": 19,
   "id": "006fe27e",
   "metadata": {},
   "outputs": [
    {
     "name": "stderr",
     "output_type": "stream",
     "text": [
      "/var/folders/7c/wd1dsfj543j4h3klbp_x650w0000gn/T/ipykernel_19939/82705425.py:2: SettingWithCopyWarning: \n",
      "A value is trying to be set on a copy of a slice from a DataFrame.\n",
      "Try using .loc[row_indexer,col_indexer] = value instead\n",
      "\n",
      "See the caveats in the documentation: https://pandas.pydata.org/pandas-docs/stable/user_guide/indexing.html#returning-a-view-versus-a-copy\n",
      "  df_clean['injured'] = df_clean['injured'].astype('int')\n"
     ]
    }
   ],
   "source": [
    "#change datatype for injured from float to int\n",
    "df_clean['injured'] = df_clean['injured'].astype('int')"
   ]
  },
  {
   "cell_type": "code",
   "execution_count": 20,
   "id": "f020b584",
   "metadata": {},
   "outputs": [
    {
     "data": {
      "text/plain": [
       "incident_id       object\n",
       "incident_date     object\n",
       "state             object\n",
       "city_or_county    object\n",
       "address           object\n",
       "killed             int64\n",
       "injured            int64\n",
       "dtype: object"
      ]
     },
     "execution_count": 20,
     "metadata": {},
     "output_type": "execute_result"
    }
   ],
   "source": [
    "#check datatypes\n",
    "df_clean.dtypes"
   ]
  },
  {
   "cell_type": "code",
   "execution_count": 21,
   "id": "5da9c322",
   "metadata": {},
   "outputs": [
    {
     "data": {
      "text/html": [
       "<div>\n",
       "<style scoped>\n",
       "    .dataframe tbody tr th:only-of-type {\n",
       "        vertical-align: middle;\n",
       "    }\n",
       "\n",
       "    .dataframe tbody tr th {\n",
       "        vertical-align: top;\n",
       "    }\n",
       "\n",
       "    .dataframe thead th {\n",
       "        text-align: right;\n",
       "    }\n",
       "</style>\n",
       "<table border=\"1\" class=\"dataframe\">\n",
       "  <thead>\n",
       "    <tr style=\"text-align: right;\">\n",
       "      <th></th>\n",
       "      <th>killed</th>\n",
       "      <th>injured</th>\n",
       "    </tr>\n",
       "  </thead>\n",
       "  <tbody>\n",
       "    <tr>\n",
       "      <th>count</th>\n",
       "      <td>3389.000000</td>\n",
       "      <td>3389.000000</td>\n",
       "    </tr>\n",
       "    <tr>\n",
       "      <th>mean</th>\n",
       "      <td>1.053703</td>\n",
       "      <td>4.182650</td>\n",
       "    </tr>\n",
       "    <tr>\n",
       "      <th>std</th>\n",
       "      <td>2.046841</td>\n",
       "      <td>7.841665</td>\n",
       "    </tr>\n",
       "    <tr>\n",
       "      <th>min</th>\n",
       "      <td>0.000000</td>\n",
       "      <td>0.000000</td>\n",
       "    </tr>\n",
       "    <tr>\n",
       "      <th>25%</th>\n",
       "      <td>0.000000</td>\n",
       "      <td>3.000000</td>\n",
       "    </tr>\n",
       "    <tr>\n",
       "      <th>50%</th>\n",
       "      <td>1.000000</td>\n",
       "      <td>4.000000</td>\n",
       "    </tr>\n",
       "    <tr>\n",
       "      <th>75%</th>\n",
       "      <td>1.000000</td>\n",
       "      <td>5.000000</td>\n",
       "    </tr>\n",
       "    <tr>\n",
       "      <th>max</th>\n",
       "      <td>59.000000</td>\n",
       "      <td>441.000000</td>\n",
       "    </tr>\n",
       "  </tbody>\n",
       "</table>\n",
       "</div>"
      ],
      "text/plain": [
       "            killed      injured\n",
       "count  3389.000000  3389.000000\n",
       "mean      1.053703     4.182650\n",
       "std       2.046841     7.841665\n",
       "min       0.000000     0.000000\n",
       "25%       0.000000     3.000000\n",
       "50%       1.000000     4.000000\n",
       "75%       1.000000     5.000000\n",
       "max      59.000000   441.000000"
      ]
     },
     "execution_count": 21,
     "metadata": {},
     "output_type": "execute_result"
    }
   ],
   "source": [
    "#check descriptive statistic of new cleaned data\n",
    "df_clean.describe()"
   ]
  },
  {
   "cell_type": "code",
   "execution_count": 22,
   "id": "fd1f39a7",
   "metadata": {},
   "outputs": [],
   "source": [
    "#split incident date from month, day and year\n",
    "month = df_clean['incident_date'].str.split(pat = ' ', n = 1, expand = True)"
   ]
  },
  {
   "cell_type": "code",
   "execution_count": 23,
   "id": "07963f89",
   "metadata": {},
   "outputs": [
    {
     "data": {
      "text/html": [
       "<div>\n",
       "<style scoped>\n",
       "    .dataframe tbody tr th:only-of-type {\n",
       "        vertical-align: middle;\n",
       "    }\n",
       "\n",
       "    .dataframe tbody tr th {\n",
       "        vertical-align: top;\n",
       "    }\n",
       "\n",
       "    .dataframe thead th {\n",
       "        text-align: right;\n",
       "    }\n",
       "</style>\n",
       "<table border=\"1\" class=\"dataframe\">\n",
       "  <thead>\n",
       "    <tr style=\"text-align: right;\">\n",
       "      <th></th>\n",
       "      <th>0</th>\n",
       "      <th>1</th>\n",
       "    </tr>\n",
       "  </thead>\n",
       "  <tbody>\n",
       "    <tr>\n",
       "      <th>0</th>\n",
       "      <td>December</td>\n",
       "      <td>31 2021</td>\n",
       "    </tr>\n",
       "    <tr>\n",
       "      <th>1</th>\n",
       "      <td>December</td>\n",
       "      <td>31 2021</td>\n",
       "    </tr>\n",
       "    <tr>\n",
       "      <th>2</th>\n",
       "      <td>December</td>\n",
       "      <td>31 2021</td>\n",
       "    </tr>\n",
       "    <tr>\n",
       "      <th>3</th>\n",
       "      <td>December</td>\n",
       "      <td>30 2021</td>\n",
       "    </tr>\n",
       "    <tr>\n",
       "      <th>4</th>\n",
       "      <td>December</td>\n",
       "      <td>30 2021</td>\n",
       "    </tr>\n",
       "    <tr>\n",
       "      <th>...</th>\n",
       "      <td>...</td>\n",
       "      <td>...</td>\n",
       "    </tr>\n",
       "    <tr>\n",
       "      <th>3386</th>\n",
       "      <td>January</td>\n",
       "      <td>12 2014</td>\n",
       "    </tr>\n",
       "    <tr>\n",
       "      <th>3387</th>\n",
       "      <td>January</td>\n",
       "      <td>11 2014</td>\n",
       "    </tr>\n",
       "    <tr>\n",
       "      <th>3388</th>\n",
       "      <td>January</td>\n",
       "      <td>5 2014</td>\n",
       "    </tr>\n",
       "    <tr>\n",
       "      <th>3389</th>\n",
       "      <td>January</td>\n",
       "      <td>3 2014</td>\n",
       "    </tr>\n",
       "    <tr>\n",
       "      <th>3390</th>\n",
       "      <td>January</td>\n",
       "      <td>1 2014</td>\n",
       "    </tr>\n",
       "  </tbody>\n",
       "</table>\n",
       "<p>3389 rows × 2 columns</p>\n",
       "</div>"
      ],
      "text/plain": [
       "             0        1\n",
       "0     December  31 2021\n",
       "1     December  31 2021\n",
       "2     December  31 2021\n",
       "3     December  30 2021\n",
       "4     December  30 2021\n",
       "...        ...      ...\n",
       "3386   January  12 2014\n",
       "3387   January  11 2014\n",
       "3388   January   5 2014\n",
       "3389   January   3 2014\n",
       "3390   January   1 2014\n",
       "\n",
       "[3389 rows x 2 columns]"
      ]
     },
     "execution_count": 23,
     "metadata": {},
     "output_type": "execute_result"
    }
   ],
   "source": [
    "#check \n",
    "month"
   ]
  },
  {
   "cell_type": "code",
   "execution_count": 24,
   "id": "9ff9e6e5",
   "metadata": {},
   "outputs": [],
   "source": [
    "#split day and year on incident date\n",
    "day_year = month[1].str.split(pat = ' ',n=1, expand = True)"
   ]
  },
  {
   "cell_type": "code",
   "execution_count": 25,
   "id": "2cf06f46",
   "metadata": {},
   "outputs": [
    {
     "data": {
      "text/html": [
       "<div>\n",
       "<style scoped>\n",
       "    .dataframe tbody tr th:only-of-type {\n",
       "        vertical-align: middle;\n",
       "    }\n",
       "\n",
       "    .dataframe tbody tr th {\n",
       "        vertical-align: top;\n",
       "    }\n",
       "\n",
       "    .dataframe thead th {\n",
       "        text-align: right;\n",
       "    }\n",
       "</style>\n",
       "<table border=\"1\" class=\"dataframe\">\n",
       "  <thead>\n",
       "    <tr style=\"text-align: right;\">\n",
       "      <th></th>\n",
       "      <th>0</th>\n",
       "      <th>1</th>\n",
       "    </tr>\n",
       "  </thead>\n",
       "  <tbody>\n",
       "    <tr>\n",
       "      <th>0</th>\n",
       "      <td>31</td>\n",
       "      <td>2021</td>\n",
       "    </tr>\n",
       "    <tr>\n",
       "      <th>1</th>\n",
       "      <td>31</td>\n",
       "      <td>2021</td>\n",
       "    </tr>\n",
       "    <tr>\n",
       "      <th>2</th>\n",
       "      <td>31</td>\n",
       "      <td>2021</td>\n",
       "    </tr>\n",
       "    <tr>\n",
       "      <th>3</th>\n",
       "      <td>30</td>\n",
       "      <td>2021</td>\n",
       "    </tr>\n",
       "    <tr>\n",
       "      <th>4</th>\n",
       "      <td>30</td>\n",
       "      <td>2021</td>\n",
       "    </tr>\n",
       "    <tr>\n",
       "      <th>...</th>\n",
       "      <td>...</td>\n",
       "      <td>...</td>\n",
       "    </tr>\n",
       "    <tr>\n",
       "      <th>3386</th>\n",
       "      <td>12</td>\n",
       "      <td>2014</td>\n",
       "    </tr>\n",
       "    <tr>\n",
       "      <th>3387</th>\n",
       "      <td>11</td>\n",
       "      <td>2014</td>\n",
       "    </tr>\n",
       "    <tr>\n",
       "      <th>3388</th>\n",
       "      <td>5</td>\n",
       "      <td>2014</td>\n",
       "    </tr>\n",
       "    <tr>\n",
       "      <th>3389</th>\n",
       "      <td>3</td>\n",
       "      <td>2014</td>\n",
       "    </tr>\n",
       "    <tr>\n",
       "      <th>3390</th>\n",
       "      <td>1</td>\n",
       "      <td>2014</td>\n",
       "    </tr>\n",
       "  </tbody>\n",
       "</table>\n",
       "<p>3389 rows × 2 columns</p>\n",
       "</div>"
      ],
      "text/plain": [
       "       0     1\n",
       "0     31  2021\n",
       "1     31  2021\n",
       "2     31  2021\n",
       "3     30  2021\n",
       "4     30  2021\n",
       "...   ..   ...\n",
       "3386  12  2014\n",
       "3387  11  2014\n",
       "3388   5  2014\n",
       "3389   3  2014\n",
       "3390   1  2014\n",
       "\n",
       "[3389 rows x 2 columns]"
      ]
     },
     "execution_count": 25,
     "metadata": {},
     "output_type": "execute_result"
    }
   ],
   "source": [
    "#check\n",
    "day_year"
   ]
  },
  {
   "cell_type": "code",
   "execution_count": 26,
   "id": "82cf433b",
   "metadata": {},
   "outputs": [],
   "source": [
    "#insert new columns in df_clean\n",
    "df_clean.insert(loc = 2, column = 'month', value = month[0])\n",
    "df_clean.insert(loc = 3, column = 'day', value = day_year[0])\n",
    "df_clean.insert(loc = 4, column = 'year', value = day_year[1])"
   ]
  },
  {
   "cell_type": "code",
   "execution_count": 27,
   "id": "02caeb89",
   "metadata": {},
   "outputs": [
    {
     "data": {
      "text/html": [
       "<div>\n",
       "<style scoped>\n",
       "    .dataframe tbody tr th:only-of-type {\n",
       "        vertical-align: middle;\n",
       "    }\n",
       "\n",
       "    .dataframe tbody tr th {\n",
       "        vertical-align: top;\n",
       "    }\n",
       "\n",
       "    .dataframe thead th {\n",
       "        text-align: right;\n",
       "    }\n",
       "</style>\n",
       "<table border=\"1\" class=\"dataframe\">\n",
       "  <thead>\n",
       "    <tr style=\"text-align: right;\">\n",
       "      <th></th>\n",
       "      <th>incident_id</th>\n",
       "      <th>incident_date</th>\n",
       "      <th>month</th>\n",
       "      <th>day</th>\n",
       "      <th>year</th>\n",
       "      <th>state</th>\n",
       "      <th>city_or_county</th>\n",
       "      <th>address</th>\n",
       "      <th>killed</th>\n",
       "      <th>injured</th>\n",
       "    </tr>\n",
       "  </thead>\n",
       "  <tbody>\n",
       "    <tr>\n",
       "      <th>0</th>\n",
       "      <td>2201535</td>\n",
       "      <td>December 31 2021</td>\n",
       "      <td>December</td>\n",
       "      <td>31</td>\n",
       "      <td>2021</td>\n",
       "      <td>Maryland</td>\n",
       "      <td>Capitol Heights</td>\n",
       "      <td>Cindy Ln</td>\n",
       "      <td>0</td>\n",
       "      <td>4</td>\n",
       "    </tr>\n",
       "    <tr>\n",
       "      <th>1</th>\n",
       "      <td>2201716</td>\n",
       "      <td>December 31 2021</td>\n",
       "      <td>December</td>\n",
       "      <td>31</td>\n",
       "      <td>2021</td>\n",
       "      <td>Mississippi</td>\n",
       "      <td>Gulfport</td>\n",
       "      <td>1200 block of Lewis Ave</td>\n",
       "      <td>3</td>\n",
       "      <td>4</td>\n",
       "    </tr>\n",
       "    <tr>\n",
       "      <th>2</th>\n",
       "      <td>2201216</td>\n",
       "      <td>December 31 2021</td>\n",
       "      <td>December</td>\n",
       "      <td>31</td>\n",
       "      <td>2021</td>\n",
       "      <td>California</td>\n",
       "      <td>Los Angeles</td>\n",
       "      <td>10211 S. Avalon Blvd</td>\n",
       "      <td>0</td>\n",
       "      <td>6</td>\n",
       "    </tr>\n",
       "    <tr>\n",
       "      <th>3</th>\n",
       "      <td>2200968</td>\n",
       "      <td>December 30 2021</td>\n",
       "      <td>December</td>\n",
       "      <td>30</td>\n",
       "      <td>2021</td>\n",
       "      <td>Pennsylvania</td>\n",
       "      <td>Philadelphia</td>\n",
       "      <td>5100 block of Germantown Ave</td>\n",
       "      <td>0</td>\n",
       "      <td>6</td>\n",
       "    </tr>\n",
       "    <tr>\n",
       "      <th>4</th>\n",
       "      <td>2201052</td>\n",
       "      <td>December 30 2021</td>\n",
       "      <td>December</td>\n",
       "      <td>30</td>\n",
       "      <td>2021</td>\n",
       "      <td>Missouri</td>\n",
       "      <td>Kirksville</td>\n",
       "      <td>700 block of E Dodson St</td>\n",
       "      <td>2</td>\n",
       "      <td>2</td>\n",
       "    </tr>\n",
       "  </tbody>\n",
       "</table>\n",
       "</div>"
      ],
      "text/plain": [
       "  incident_id     incident_date     month day  year         state  \\\n",
       "0     2201535  December 31 2021  December  31  2021      Maryland   \n",
       "1     2201716  December 31 2021  December  31  2021   Mississippi   \n",
       "2     2201216  December 31 2021  December  31  2021    California   \n",
       "3     2200968  December 30 2021  December  30  2021  Pennsylvania   \n",
       "4     2201052  December 30 2021  December  30  2021      Missouri   \n",
       "\n",
       "    city_or_county                       address  killed  injured  \n",
       "0  Capitol Heights                      Cindy Ln       0        4  \n",
       "1         Gulfport       1200 block of Lewis Ave       3        4  \n",
       "2      Los Angeles          10211 S. Avalon Blvd       0        6  \n",
       "3     Philadelphia  5100 block of Germantown Ave       0        6  \n",
       "4       Kirksville      700 block of E Dodson St       2        2  "
      ]
     },
     "execution_count": 27,
     "metadata": {},
     "output_type": "execute_result"
    }
   ],
   "source": [
    "#check head\n",
    "df_clean.head()"
   ]
  },
  {
   "cell_type": "code",
   "execution_count": 28,
   "id": "392517a9",
   "metadata": {},
   "outputs": [
    {
     "data": {
      "text/html": [
       "<div>\n",
       "<style scoped>\n",
       "    .dataframe tbody tr th:only-of-type {\n",
       "        vertical-align: middle;\n",
       "    }\n",
       "\n",
       "    .dataframe tbody tr th {\n",
       "        vertical-align: top;\n",
       "    }\n",
       "\n",
       "    .dataframe thead th {\n",
       "        text-align: right;\n",
       "    }\n",
       "</style>\n",
       "<table border=\"1\" class=\"dataframe\">\n",
       "  <thead>\n",
       "    <tr style=\"text-align: right;\">\n",
       "      <th></th>\n",
       "      <th>incident_id</th>\n",
       "      <th>incident_date</th>\n",
       "      <th>month</th>\n",
       "      <th>day</th>\n",
       "      <th>year</th>\n",
       "      <th>state</th>\n",
       "      <th>city_or_county</th>\n",
       "      <th>address</th>\n",
       "      <th>killed</th>\n",
       "      <th>injured</th>\n",
       "    </tr>\n",
       "  </thead>\n",
       "  <tbody>\n",
       "    <tr>\n",
       "      <th>3386</th>\n",
       "      <td>95550</td>\n",
       "      <td>January 12 2014</td>\n",
       "      <td>January</td>\n",
       "      <td>12</td>\n",
       "      <td>2014</td>\n",
       "      <td>Alabama</td>\n",
       "      <td>Huntsville</td>\n",
       "      <td>University Drive</td>\n",
       "      <td>0</td>\n",
       "      <td>5</td>\n",
       "    </tr>\n",
       "    <tr>\n",
       "      <th>3387</th>\n",
       "      <td>95146</td>\n",
       "      <td>January 11 2014</td>\n",
       "      <td>January</td>\n",
       "      <td>11</td>\n",
       "      <td>2014</td>\n",
       "      <td>Mississippi</td>\n",
       "      <td>Jackson</td>\n",
       "      <td>3430 W. Capitol Street</td>\n",
       "      <td>0</td>\n",
       "      <td>4</td>\n",
       "    </tr>\n",
       "    <tr>\n",
       "      <th>3388</th>\n",
       "      <td>94514</td>\n",
       "      <td>January 5 2014</td>\n",
       "      <td>January</td>\n",
       "      <td>5</td>\n",
       "      <td>2014</td>\n",
       "      <td>Pennsylvania</td>\n",
       "      <td>Erie</td>\n",
       "      <td>829 Parade St</td>\n",
       "      <td>1</td>\n",
       "      <td>3</td>\n",
       "    </tr>\n",
       "    <tr>\n",
       "      <th>3389</th>\n",
       "      <td>92704</td>\n",
       "      <td>January 3 2014</td>\n",
       "      <td>January</td>\n",
       "      <td>3</td>\n",
       "      <td>2014</td>\n",
       "      <td>New York</td>\n",
       "      <td>Queens</td>\n",
       "      <td>Farmers Boulevard and 133rd Avenue</td>\n",
       "      <td>1</td>\n",
       "      <td>3</td>\n",
       "    </tr>\n",
       "    <tr>\n",
       "      <th>3390</th>\n",
       "      <td>92194</td>\n",
       "      <td>January 1 2014</td>\n",
       "      <td>January</td>\n",
       "      <td>1</td>\n",
       "      <td>2014</td>\n",
       "      <td>Virginia</td>\n",
       "      <td>Norfolk</td>\n",
       "      <td>Rockingham Street and Berkley Avenue Extended</td>\n",
       "      <td>2</td>\n",
       "      <td>2</td>\n",
       "    </tr>\n",
       "  </tbody>\n",
       "</table>\n",
       "</div>"
      ],
      "text/plain": [
       "     incident_id    incident_date    month day  year         state  \\\n",
       "3386       95550  January 12 2014  January  12  2014       Alabama   \n",
       "3387       95146  January 11 2014  January  11  2014   Mississippi   \n",
       "3388       94514   January 5 2014  January   5  2014  Pennsylvania   \n",
       "3389       92704   January 3 2014  January   3  2014      New York   \n",
       "3390       92194   January 1 2014  January   1  2014      Virginia   \n",
       "\n",
       "     city_or_county                                        address  killed  \\\n",
       "3386     Huntsville                               University Drive       0   \n",
       "3387        Jackson                         3430 W. Capitol Street       0   \n",
       "3388           Erie                                  829 Parade St       1   \n",
       "3389         Queens             Farmers Boulevard and 133rd Avenue       1   \n",
       "3390        Norfolk  Rockingham Street and Berkley Avenue Extended       2   \n",
       "\n",
       "      injured  \n",
       "3386        5  \n",
       "3387        4  \n",
       "3388        3  \n",
       "3389        3  \n",
       "3390        2  "
      ]
     },
     "execution_count": 28,
     "metadata": {},
     "output_type": "execute_result"
    }
   ],
   "source": [
    "df_clean.tail()"
   ]
  },
  {
   "cell_type": "code",
   "execution_count": 31,
   "id": "456da46f",
   "metadata": {},
   "outputs": [
    {
     "data": {
      "text/plain": [
       "(3389, 10)"
      ]
     },
     "execution_count": 31,
     "metadata": {},
     "output_type": "execute_result"
    }
   ],
   "source": [
    "df_clean.shape"
   ]
  },
  {
   "cell_type": "code",
   "execution_count": 32,
   "id": "7977b09a",
   "metadata": {},
   "outputs": [],
   "source": [
    "#export cleaned data\n",
    "df_clean.to_csv(os.path.join(path, 'Data','Prepared Data', 'data_cleaned.csv'))"
   ]
  }
 ],
 "metadata": {
  "kernelspec": {
   "display_name": "Python 3 (ipykernel)",
   "language": "python",
   "name": "python3"
  },
  "language_info": {
   "codemirror_mode": {
    "name": "ipython",
    "version": 3
   },
   "file_extension": ".py",
   "mimetype": "text/x-python",
   "name": "python",
   "nbconvert_exporter": "python",
   "pygments_lexer": "ipython3",
   "version": "3.9.13"
  }
 },
 "nbformat": 4,
 "nbformat_minor": 5
}
