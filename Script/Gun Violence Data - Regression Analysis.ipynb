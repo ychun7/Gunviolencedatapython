{
 "cells": [
  {
   "cell_type": "markdown",
   "id": "1c3ebe8c",
   "metadata": {},
   "source": [
    "# Gun Violence Data - Regression Analysis\n",
    "### Regression Analysis for Gun Violence Data (2014-2021)\n",
    "\n",
    "#### This script contains following:\n",
    "1. Import data and libraries\n",
    "2. Data prepping for regression analysis\n",
    "3. Performing regression analysis\n",
    "4. Final result analysis"
   ]
  },
  {
   "cell_type": "code",
   "execution_count": 1,
   "id": "86746f63",
   "metadata": {},
   "outputs": [],
   "source": [
    "#import libraries\n",
    "import pandas as pd\n",
    "import numpy as np\n",
    "import seaborn as sns\n",
    "import matplotlib\n",
    "import matplotlib.pyplot as plt\n",
    "import os\n",
    "import sklearn\n",
    "from sklearn.model_selection import train_test_split \n",
    "from sklearn.linear_model import LinearRegression\n",
    "from sklearn.metrics import mean_squared_error, r2_score"
   ]
  },
  {
   "cell_type": "code",
   "execution_count": 3,
   "id": "28b92224",
   "metadata": {},
   "outputs": [],
   "source": [
    "#define path \n",
    "path=r'/Users/yeji/Documents/Career Foundry/Achievement 6'"
   ]
  },
  {
   "cell_type": "code",
   "execution_count": 4,
   "id": "06c701c5",
   "metadata": {},
   "outputs": [],
   "source": [
    "#import data\n",
    "df = pd.read_csv(os.path.join(path,'Data', 'Prepared Data', 'data_with_regions.csv'), index_col = 0)"
   ]
  },
  {
   "cell_type": "code",
   "execution_count": 5,
   "id": "74b82cd9",
   "metadata": {},
   "outputs": [
    {
     "data": {
      "text/html": [
       "<div>\n",
       "<style scoped>\n",
       "    .dataframe tbody tr th:only-of-type {\n",
       "        vertical-align: middle;\n",
       "    }\n",
       "\n",
       "    .dataframe tbody tr th {\n",
       "        vertical-align: top;\n",
       "    }\n",
       "\n",
       "    .dataframe thead th {\n",
       "        text-align: right;\n",
       "    }\n",
       "</style>\n",
       "<table border=\"1\" class=\"dataframe\">\n",
       "  <thead>\n",
       "    <tr style=\"text-align: right;\">\n",
       "      <th></th>\n",
       "      <th>incident_id</th>\n",
       "      <th>incident_date</th>\n",
       "      <th>month</th>\n",
       "      <th>day</th>\n",
       "      <th>year</th>\n",
       "      <th>state</th>\n",
       "      <th>city_or_county</th>\n",
       "      <th>address</th>\n",
       "      <th>killed</th>\n",
       "      <th>injured</th>\n",
       "      <th>Regions</th>\n",
       "      <th>year category</th>\n",
       "    </tr>\n",
       "  </thead>\n",
       "  <tbody>\n",
       "    <tr>\n",
       "      <th>0</th>\n",
       "      <td>2201535</td>\n",
       "      <td>December 31 2021</td>\n",
       "      <td>December</td>\n",
       "      <td>31</td>\n",
       "      <td>2021</td>\n",
       "      <td>Maryland</td>\n",
       "      <td>Capitol Heights</td>\n",
       "      <td>Cindy Ln</td>\n",
       "      <td>0</td>\n",
       "      <td>4</td>\n",
       "      <td>South</td>\n",
       "      <td>early 2020s</td>\n",
       "    </tr>\n",
       "    <tr>\n",
       "      <th>1</th>\n",
       "      <td>2201716</td>\n",
       "      <td>December 31 2021</td>\n",
       "      <td>December</td>\n",
       "      <td>31</td>\n",
       "      <td>2021</td>\n",
       "      <td>Mississippi</td>\n",
       "      <td>Gulfport</td>\n",
       "      <td>1200 block of Lewis Ave</td>\n",
       "      <td>3</td>\n",
       "      <td>4</td>\n",
       "      <td>South</td>\n",
       "      <td>early 2020s</td>\n",
       "    </tr>\n",
       "    <tr>\n",
       "      <th>2</th>\n",
       "      <td>2201216</td>\n",
       "      <td>December 31 2021</td>\n",
       "      <td>December</td>\n",
       "      <td>31</td>\n",
       "      <td>2021</td>\n",
       "      <td>California</td>\n",
       "      <td>Los Angeles</td>\n",
       "      <td>10211 S. Avalon Blvd</td>\n",
       "      <td>0</td>\n",
       "      <td>6</td>\n",
       "      <td>West</td>\n",
       "      <td>early 2020s</td>\n",
       "    </tr>\n",
       "    <tr>\n",
       "      <th>3</th>\n",
       "      <td>2200968</td>\n",
       "      <td>December 30 2021</td>\n",
       "      <td>December</td>\n",
       "      <td>30</td>\n",
       "      <td>2021</td>\n",
       "      <td>Pennsylvania</td>\n",
       "      <td>Philadelphia</td>\n",
       "      <td>5100 block of Germantown Ave</td>\n",
       "      <td>0</td>\n",
       "      <td>6</td>\n",
       "      <td>Northeast</td>\n",
       "      <td>early 2020s</td>\n",
       "    </tr>\n",
       "    <tr>\n",
       "      <th>4</th>\n",
       "      <td>2201052</td>\n",
       "      <td>December 30 2021</td>\n",
       "      <td>December</td>\n",
       "      <td>30</td>\n",
       "      <td>2021</td>\n",
       "      <td>Missouri</td>\n",
       "      <td>Kirksville</td>\n",
       "      <td>700 block of E Dodson St</td>\n",
       "      <td>2</td>\n",
       "      <td>2</td>\n",
       "      <td>Midwest</td>\n",
       "      <td>early 2020s</td>\n",
       "    </tr>\n",
       "  </tbody>\n",
       "</table>\n",
       "</div>"
      ],
      "text/plain": [
       "   incident_id     incident_date     month  day  year         state  \\\n",
       "0      2201535  December 31 2021  December   31  2021      Maryland   \n",
       "1      2201716  December 31 2021  December   31  2021   Mississippi   \n",
       "2      2201216  December 31 2021  December   31  2021    California   \n",
       "3      2200968  December 30 2021  December   30  2021  Pennsylvania   \n",
       "4      2201052  December 30 2021  December   30  2021      Missouri   \n",
       "\n",
       "    city_or_county                       address  killed  injured    Regions  \\\n",
       "0  Capitol Heights                      Cindy Ln       0        4      South   \n",
       "1         Gulfport       1200 block of Lewis Ave       3        4      South   \n",
       "2      Los Angeles          10211 S. Avalon Blvd       0        6       West   \n",
       "3     Philadelphia  5100 block of Germantown Ave       0        6  Northeast   \n",
       "4       Kirksville      700 block of E Dodson St       2        2    Midwest   \n",
       "\n",
       "  year category  \n",
       "0   early 2020s  \n",
       "1   early 2020s  \n",
       "2   early 2020s  \n",
       "3   early 2020s  \n",
       "4   early 2020s  "
      ]
     },
     "execution_count": 5,
     "metadata": {},
     "output_type": "execute_result"
    }
   ],
   "source": [
    "#check head\n",
    "df.head()"
   ]
  },
  {
   "cell_type": "code",
   "execution_count": 6,
   "id": "9d25c123",
   "metadata": {},
   "outputs": [
    {
     "data": {
      "text/plain": [
       "(3389, 12)"
      ]
     },
     "execution_count": 6,
     "metadata": {},
     "output_type": "execute_result"
    }
   ],
   "source": [
    "#check shape\n",
    "df.shape"
   ]
  },
  {
   "cell_type": "code",
   "execution_count": 17,
   "id": "f23f2db8",
   "metadata": {
    "scrolled": true
   },
   "outputs": [
    {
     "data": {
      "text/plain": [
       "<AxesSubplot:xlabel='killed'>"
      ]
     },
     "execution_count": 17,
     "metadata": {},
     "output_type": "execute_result"
    },
    {
     "data": {
      "image/png": "[encoded data removed]",
      "text/plain": [
       "<Figure size 640x480 with 1 Axes>"
      ]
     },
     "metadata": {},
     "output_type": "display_data"
    }
   ],
   "source": [
    "#check for extreme via scatterplot\n",
    "df.plot(x = 'killed', y='injured',style='o')"
   ]
  },
  {
   "cell_type": "markdown",
   "id": "5431b378",
   "metadata": {},
   "source": [
    "2 dots in the scatterplot around 50 and 400 are an extreme values and needs to be removed for the purpose of regression analysis"
   ]
  },
  {
   "cell_type": "code",
   "execution_count": 23,
   "id": "d8d85123",
   "metadata": {},
   "outputs": [],
   "source": [
    "#remove extreme\n",
    "df_new = df[df['injured']<50]"
   ]
  },
  {
   "cell_type": "code",
   "execution_count": 24,
   "id": "25b4ed39",
   "metadata": {},
   "outputs": [
    {
     "data": {
      "text/plain": [
       "<AxesSubplot:xlabel='injured'>"
      ]
     },
     "execution_count": 24,
     "metadata": {},
     "output_type": "execute_result"
    },
    {
     "data": {
      "image/png": "[encoded data removed]",
      "text/plain": [
       "<Figure size 640x480 with 1 Axes>"
      ]
     },
     "metadata": {},
     "output_type": "display_data"
    }
   ],
   "source": [
    "#check new scatterplot\n",
    "df_new.plot(x = 'injured', y='killed',style='o')"
   ]
  },
  {
   "cell_type": "markdown",
   "id": "dea407da",
   "metadata": {},
   "source": [
    "## Hypothesis\n",
    "If numbers of individuals injured increases,than number of individuals killed will increase"
   ]
  },
  {
   "cell_type": "markdown",
   "id": "50a7b3d6",
   "metadata": {},
   "source": [
    "## Regression analysis prep "
   ]
  },
  {
   "cell_type": "code",
   "execution_count": 36,
   "id": "a93b36cd",
   "metadata": {},
   "outputs": [],
   "source": [
    "# Reshaping variables into Numpy arrays\n",
    "\n",
    "X = df_new['injured'].values.reshape(-1,1)\n",
    "y = df_new['killed'].values.reshape(-1,1)"
   ]
  },
  {
   "cell_type": "code",
   "execution_count": 37,
   "id": "e76078fd",
   "metadata": {},
   "outputs": [
    {
     "data": {
      "text/plain": [
       "array([[4],\n",
       "       [4],\n",
       "       [6],\n",
       "       ...,\n",
       "       [3],\n",
       "       [3],\n",
       "       [2]])"
      ]
     },
     "execution_count": 37,
     "metadata": {},
     "output_type": "execute_result"
    }
   ],
   "source": [
    "X"
   ]
  },
  {
   "cell_type": "code",
   "execution_count": 38,
   "id": "6cc38eb4",
   "metadata": {},
   "outputs": [
    {
     "data": {
      "text/plain": [
       "array([[0],\n",
       "       [3],\n",
       "       [0],\n",
       "       ...,\n",
       "       [1],\n",
       "       [1],\n",
       "       [2]])"
      ]
     },
     "execution_count": 38,
     "metadata": {},
     "output_type": "execute_result"
    }
   ],
   "source": [
    "y"
   ]
  },
  {
   "cell_type": "code",
   "execution_count": 39,
   "id": "9de285fb",
   "metadata": {},
   "outputs": [],
   "source": [
    "# Split data into a training set and a test set.\n",
    "\n",
    "X_train, X_test, y_train, y_test = train_test_split(X, y, test_size=0.3, random_state=0)"
   ]
  },
  {
   "cell_type": "markdown",
   "id": "f14105bb",
   "metadata": {},
   "source": [
    "## Regression Analysis"
   ]
  },
  {
   "cell_type": "code",
   "execution_count": 40,
   "id": "bf6c2766",
   "metadata": {},
   "outputs": [],
   "source": [
    "# Create a regression object\n",
    "regression = LinearRegression() "
   ]
  },
  {
   "cell_type": "code",
   "execution_count": 41,
   "id": "49e4346c",
   "metadata": {},
   "outputs": [
    {
     "data": {
      "text/plain": [
       "LinearRegression()"
      ]
     },
     "execution_count": 41,
     "metadata": {},
     "output_type": "execute_result"
    }
   ],
   "source": [
    "# Fit the regression object onto the training set.\n",
    "regression.fit(X_train, y_train)"
   ]
  },
  {
   "cell_type": "code",
   "execution_count": 42,
   "id": "72be518d",
   "metadata": {},
   "outputs": [],
   "source": [
    "# Predict the values of y using X\n",
    "y_predicted = regression.predict(X_test)"
   ]
  },
  {
   "cell_type": "code",
   "execution_count": 43,
   "id": "aecf2841",
   "metadata": {},
   "outputs": [
    {
     "data": {
      "image/png": "[encoded data removed]",
      "text/plain": [
       "<Figure size 640x480 with 1 Axes>"
      ]
     },
     "metadata": {},
     "output_type": "display_data"
    }
   ],
   "source": [
    "# Create a plot that shows the regression line from the model on the test set.\n",
    "plot_test = plt\n",
    "plot_test.scatter(X_test, y_test, color='gray', s = 15)\n",
    "plot_test.plot(X_test, y_predicted, color='orange', linewidth =3)\n",
    "plot_test.title('Individuals Injured vs Individuals Killed (Test set)')\n",
    "plot_test.xlabel('Injured')\n",
    "plot_test.ylabel('Killed')\n",
    "plot_test.show()"
   ]
  },
  {
   "cell_type": "code",
   "execution_count": 44,
   "id": "774a1bbb",
   "metadata": {},
   "outputs": [],
   "source": [
    "# Create objects that contain the model summary statistics\n",
    "rmse = mean_squared_error(y_test, y_predicted)\n",
    "r2 = r2_score(y_test, y_predicted)"
   ]
  },
  {
   "cell_type": "code",
   "execution_count": 45,
   "id": "d48b1176",
   "metadata": {},
   "outputs": [
    {
     "name": "stdout",
     "output_type": "stream",
     "text": [
      "Slope: [[-0.23227193]]\n",
      "Mean squared error:  3.40452509077437\n",
      "R2 score:  -0.04957300429453215\n"
     ]
    }
   ],
   "source": [
    "#check model summary statistics\n",
    "print('Slope:' ,regression.coef_)\n",
    "print('Mean squared error: ', rmse)\n",
    "print('R2 score: ', r2)"
   ]
  },
  {
   "cell_type": "markdown",
   "id": "88f5eee4",
   "metadata": {},
   "source": [
    "#### Analysis\n",
    "The slope is a negative value, which means that there is a negative relationship between indivduals injured and killed. This contradicts the hypthosis that was made, which assumed more injured would mean more killed. \n",
    "The mean squared error is small, which shows that the line is close to the set of points but the r2 value of -0.05 indicates that the line is not the best fit of the data. "
   ]
  },
  {
   "cell_type": "code",
   "execution_count": 46,
   "id": "d21fd7f9",
   "metadata": {},
   "outputs": [
    {
     "data": {
      "text/html": [
       "<div>\n",
       "<style scoped>\n",
       "    .dataframe tbody tr th:only-of-type {\n",
       "        vertical-align: middle;\n",
       "    }\n",
       "\n",
       "    .dataframe tbody tr th {\n",
       "        vertical-align: top;\n",
       "    }\n",
       "\n",
       "    .dataframe thead th {\n",
       "        text-align: right;\n",
       "    }\n",
       "</style>\n",
       "<table border=\"1\" class=\"dataframe\">\n",
       "  <thead>\n",
       "    <tr style=\"text-align: right;\">\n",
       "      <th></th>\n",
       "      <th>Actual</th>\n",
       "      <th>Predicted</th>\n",
       "    </tr>\n",
       "  </thead>\n",
       "  <tbody>\n",
       "    <tr>\n",
       "      <th>0</th>\n",
       "      <td>1</td>\n",
       "      <td>1.213220</td>\n",
       "    </tr>\n",
       "    <tr>\n",
       "      <th>1</th>\n",
       "      <td>5</td>\n",
       "      <td>1.677763</td>\n",
       "    </tr>\n",
       "    <tr>\n",
       "      <th>2</th>\n",
       "      <td>1</td>\n",
       "      <td>1.213220</td>\n",
       "    </tr>\n",
       "    <tr>\n",
       "      <th>3</th>\n",
       "      <td>1</td>\n",
       "      <td>0.516404</td>\n",
       "    </tr>\n",
       "    <tr>\n",
       "      <th>4</th>\n",
       "      <td>0</td>\n",
       "      <td>0.748676</td>\n",
       "    </tr>\n",
       "    <tr>\n",
       "      <th>5</th>\n",
       "      <td>0</td>\n",
       "      <td>0.748676</td>\n",
       "    </tr>\n",
       "    <tr>\n",
       "      <th>6</th>\n",
       "      <td>0</td>\n",
       "      <td>0.516404</td>\n",
       "    </tr>\n",
       "    <tr>\n",
       "      <th>7</th>\n",
       "      <td>0</td>\n",
       "      <td>0.980948</td>\n",
       "    </tr>\n",
       "    <tr>\n",
       "      <th>8</th>\n",
       "      <td>3</td>\n",
       "      <td>1.677763</td>\n",
       "    </tr>\n",
       "    <tr>\n",
       "      <th>9</th>\n",
       "      <td>0</td>\n",
       "      <td>0.980948</td>\n",
       "    </tr>\n",
       "    <tr>\n",
       "      <th>10</th>\n",
       "      <td>1</td>\n",
       "      <td>0.980948</td>\n",
       "    </tr>\n",
       "    <tr>\n",
       "      <th>11</th>\n",
       "      <td>3</td>\n",
       "      <td>-0.644956</td>\n",
       "    </tr>\n",
       "    <tr>\n",
       "      <th>12</th>\n",
       "      <td>2</td>\n",
       "      <td>0.748676</td>\n",
       "    </tr>\n",
       "    <tr>\n",
       "      <th>13</th>\n",
       "      <td>2</td>\n",
       "      <td>1.445491</td>\n",
       "    </tr>\n",
       "    <tr>\n",
       "      <th>14</th>\n",
       "      <td>0</td>\n",
       "      <td>0.980948</td>\n",
       "    </tr>\n",
       "    <tr>\n",
       "      <th>15</th>\n",
       "      <td>4</td>\n",
       "      <td>1.910035</td>\n",
       "    </tr>\n",
       "    <tr>\n",
       "      <th>16</th>\n",
       "      <td>3</td>\n",
       "      <td>1.677763</td>\n",
       "    </tr>\n",
       "    <tr>\n",
       "      <th>17</th>\n",
       "      <td>1</td>\n",
       "      <td>0.980948</td>\n",
       "    </tr>\n",
       "    <tr>\n",
       "      <th>18</th>\n",
       "      <td>0</td>\n",
       "      <td>0.980948</td>\n",
       "    </tr>\n",
       "    <tr>\n",
       "      <th>19</th>\n",
       "      <td>1</td>\n",
       "      <td>1.213220</td>\n",
       "    </tr>\n",
       "    <tr>\n",
       "      <th>20</th>\n",
       "      <td>0</td>\n",
       "      <td>0.748676</td>\n",
       "    </tr>\n",
       "    <tr>\n",
       "      <th>21</th>\n",
       "      <td>0</td>\n",
       "      <td>0.980948</td>\n",
       "    </tr>\n",
       "    <tr>\n",
       "      <th>22</th>\n",
       "      <td>0</td>\n",
       "      <td>0.748676</td>\n",
       "    </tr>\n",
       "    <tr>\n",
       "      <th>23</th>\n",
       "      <td>0</td>\n",
       "      <td>0.748676</td>\n",
       "    </tr>\n",
       "    <tr>\n",
       "      <th>24</th>\n",
       "      <td>2</td>\n",
       "      <td>1.445491</td>\n",
       "    </tr>\n",
       "    <tr>\n",
       "      <th>25</th>\n",
       "      <td>1</td>\n",
       "      <td>0.980948</td>\n",
       "    </tr>\n",
       "    <tr>\n",
       "      <th>26</th>\n",
       "      <td>0</td>\n",
       "      <td>0.284132</td>\n",
       "    </tr>\n",
       "    <tr>\n",
       "      <th>27</th>\n",
       "      <td>0</td>\n",
       "      <td>0.980948</td>\n",
       "    </tr>\n",
       "    <tr>\n",
       "      <th>28</th>\n",
       "      <td>1</td>\n",
       "      <td>1.213220</td>\n",
       "    </tr>\n",
       "    <tr>\n",
       "      <th>29</th>\n",
       "      <td>2</td>\n",
       "      <td>0.051860</td>\n",
       "    </tr>\n",
       "  </tbody>\n",
       "</table>\n",
       "</div>"
      ],
      "text/plain": [
       "    Actual  Predicted\n",
       "0        1   1.213220\n",
       "1        5   1.677763\n",
       "2        1   1.213220\n",
       "3        1   0.516404\n",
       "4        0   0.748676\n",
       "5        0   0.748676\n",
       "6        0   0.516404\n",
       "7        0   0.980948\n",
       "8        3   1.677763\n",
       "9        0   0.980948\n",
       "10       1   0.980948\n",
       "11       3  -0.644956\n",
       "12       2   0.748676\n",
       "13       2   1.445491\n",
       "14       0   0.980948\n",
       "15       4   1.910035\n",
       "16       3   1.677763\n",
       "17       1   0.980948\n",
       "18       0   0.980948\n",
       "19       1   1.213220\n",
       "20       0   0.748676\n",
       "21       0   0.980948\n",
       "22       0   0.748676\n",
       "23       0   0.748676\n",
       "24       2   1.445491\n",
       "25       1   0.980948\n",
       "26       0   0.284132\n",
       "27       0   0.980948\n",
       "28       1   1.213220\n",
       "29       2   0.051860"
      ]
     },
     "execution_count": 46,
     "metadata": {},
     "output_type": "execute_result"
    }
   ],
   "source": [
    "# Check dataframe comparing the actual and predicted values of y\n",
    "\n",
    "data = pd.DataFrame({'Actual': y_test.flatten(), 'Predicted': y_predicted.flatten()})\n",
    "data.head(30)"
   ]
  },
  {
   "cell_type": "markdown",
   "id": "98cced5e",
   "metadata": {},
   "source": [
    "### Final Analysis\n",
    "The dataframe with actual and predicted y values show a large discrepency, which indicates that the model is not the best representative of the relationship between the x and y variables. Therefore, I need to see if there is another way to find the relationship between the injured and the killed. Also, I excluded the extreme values which might have impacted the model as well. "
   ]
  }
 ],
 "metadata": {
  "kernelspec": {
   "display_name": "Python 3 (ipykernel)",
   "language": "python",
   "name": "python3"
  },
  "language_info": {
   "codemirror_mode": {
    "name": "ipython",
    "version": 3
   },
   "file_extension": ".py",
   "mimetype": "text/x-python",
   "name": "python",
   "nbconvert_exporter": "python",
   "pygments_lexer": "ipython3",
   "version": "3.9.13"
  }
 },
 "nbformat": 4,
 "nbformat_minor": 5
}
